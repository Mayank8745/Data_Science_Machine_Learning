{
 "cells": [
  {
   "attachments": {},
   "cell_type": "markdown",
   "metadata": {},
   "source": [
    "##### To open New Text file we use open function\n",
    "##### Also we have to specify that in which mode we have to open it\n",
    "##### r - read mode default mode\n",
    "##### w - write mode\n",
    "##### a - append mode"
   ]
  },
  {
   "cell_type": "code",
   "execution_count": 1,
   "metadata": {},
   "outputs": [],
   "source": [
    "file_obj = open('../../Datasets/Sample_Text.txt', 'r')"
   ]
  },
  {
   "attachments": {},
   "cell_type": "markdown",
   "metadata": {},
   "source": [
    "##### After open file it is encoded to read encoded file we uses read() function which convert data into String"
   ]
  },
  {
   "cell_type": "code",
   "execution_count": 2,
   "metadata": {},
   "outputs": [
    {
     "name": "stdout",
     "output_type": "stream",
     "text": [
      "Lorem ipsum dolor sit amet, consectetur adipiscing elit, sed do eiusmod tempor incididunt ut labore et dolore magna aliqua. Tincidunt vitae semper quis lectus nulla at. Blandit libero volutpat sed cras ornare arcu dui vivamus arcu. Erat imperdiet sed euismod nisi porta lorem mollis aliquam. Nunc lobortis mattis aliquam faucibus purus in massa tempor. Porta non pulvinar neque laoreet suspendisse interdum. Facilisis mauris sit amet massa vitae tortor condimentum. Suspendisse potenti nullam ac tortor vitae purus. Iaculis at erat pellentesque adipiscing. Ullamcorper sit amet risus nullam eget felis eget nunc. Amet massa vitae tortor condimentum lacinia quis. Cras adipiscing enim eu turpis egestas pretium aenean pharetra magna. Enim nec dui nunc mattis enim ut. Quam quisque id diam vel quam. Ultricies tristique nulla aliquet enim tortor at auctor urna nunc. Dolor purus non enim praesent elementum facilisis leo. Auctor urna nunc id cursus metus.\n",
      "\n",
      "Cursus metus aliquam eleifend mi in nulla posuere sollicitudin. Viverra tellus in hac habitasse platea dictumst vestibulum. Diam maecenas ultricies mi eget mauris pharetra. Dignissim suspendisse in est ante in. Orci ac auctor augue mauris augue neque gravida in. Arcu odio ut sem nulla pharetra diam sit amet. Ullamcorper morbi tincidunt ornare massa eget egestas purus. Nam libero justo laoreet sit amet. Sit amet commodo nulla facilisi nullam vehicula ipsum a arcu. Tristique et egestas quis ipsum suspendisse. Libero nunc consequat interdum varius sit amet mattis vulputate enim. Dui faucibus in ornare quam viverra orci sagittis eu. Interdum consectetur libero id faucibus nisl tincidunt eget. Semper auctor neque vitae tempus. Felis imperdiet proin fermentum leo. Rhoncus dolor purus non enim. Ut sem viverra aliquet eget sit amet tellus cras. Pellentesque elit ullamcorper dignissim cras tincidunt.\n",
      "\n",
      "Risus at ultrices mi tempus imperdiet nulla malesuada pellentesque. Sem et tortor consequat id. Morbi tincidunt augue interdum velit euismod in pellentesque massa placerat. Amet risus nullam eget felis eget nunc lobortis. Nisl rhoncus mattis rhoncus urna neque viverra justo nec ultrices. Turpis in eu mi bibendum neque egestas congue. Et tortor consequat id porta nibh venenatis cras. Facilisis gravida neque convallis a. Et odio pellentesque diam volutpat commodo sed egestas. Proin sagittis nisl rhoncus mattis rhoncus urna neque viverra justo. Vel risus commodo viverra maecenas accumsan lacus vel. Id nibh tortor id aliquet. Quis vel eros donec ac. Quisque egestas diam in arcu cursus euismod. Habitasse platea dictumst quisque sagittis purus. Curabitur vitae nunc sed velit dignissim sodales ut eu. Pellentesque diam volutpat commodo sed. Non odio euismod lacinia at quis risus sed vulputate odio. Nunc eget lorem dolor sed viverra ipsum nunc aliquet bibendum.\n",
      "\n",
      "Pellentesque sit amet porttitor eget dolor morbi. Est ullamcorper eget nulla facilisi etiam dignissim diam. Viverra suspendisse potenti nullam ac tortor vitae purus faucibus. Massa enim nec dui nunc. Quis ipsum suspendisse ultrices gravida dictum fusce. Sodales ut eu sem integer vitae justo eget. Ac auctor augue mauris augue neque. Quis risus sed vulputate odio ut enim blandit volutpat maecenas. Nunc scelerisque viverra mauris in aliquam sem fringilla ut. Molestie nunc non blandit massa enim. Mollis aliquam ut porttitor leo a diam sollicitudin. Bibendum neque egestas congue quisque egestas diam. Elementum tempus egestas sed sed risus. Mattis vulputate enim nulla aliquet porttitor lacus luctus accumsan. Enim nec dui nunc mattis enim ut. Nisi scelerisque eu ultrices vitae. At volutpat diam ut venenatis tellus in metus vulputate. Ac tortor dignissim convallis aenean et tortor.\n",
      "\n",
      "Libero volutpat sed cras ornare arcu dui vivamus arcu felis. Tincidunt nunc pulvinar sapien et ligula ullamcorper malesuada. Bibendum neque egestas congue quisque egestas diam. Quam vulputate dignissim suspendisse in est. Ipsum dolor sit amet consectetur adipiscing elit. Maecenas accumsan lacus vel facilisis volutpat est velit egestas dui. Volutpat consequat mauris nunc congue nisi vitae suscipit tellus mauris. Pellentesque habitant morbi tristique senectus et netus et malesuada. Penatibus et magnis dis parturient montes nascetur. Bibendum enim facilisis gravida neque convallis a. Dolor sed viverra ipsum nunc aliquet. Vitae auctor eu augue ut lectus arcu. Nisl vel pretium lectus quam id leo in. Enim tortor at auctor urna nunc id cursus metus. Ut ornare lectus sit amet est placerat. Convallis posuere morbi leo urna molestie at elementum. Ac orci phasellus egestas tellus rutrum. Quis lectus nulla at volutpat diam ut venenatis tellus in. Condimentum id venenatis a condimentum vitae sapien pellentesque habitant morbi. Ipsum a arcu cursus vitae congue mauris.\n",
      "\n",
      "Ut venenatis tellus in metus vulputate eu scelerisque felis. Eget egestas purus viverra accumsan in nisl nisi. Fringilla est ullamcorper eget nulla. Lectus sit amet est placerat. Dictum varius duis at consectetur lorem donec massa sapien. Nisi quis eleifend quam adipiscing vitae proin sagittis nisl. Scelerisque varius morbi enim nunc faucibus a pellentesque sit amet. Dui ut ornare lectus sit. Velit sed ullamcorper morbi tincidunt ornare. Amet est placerat in egestas. Ac turpis egestas sed tempus urna et pharetra. Fermentum dui faucibus in ornare quam viverra orci sagittis. Praesent semper feugiat nibh sed pulvinar proin. Scelerisque eleifend donec pretium vulputate sapien nec sagittis aliquam malesuada.\n",
      "\n",
      "Massa tempor nec feugiat nisl. Felis eget nunc lobortis mattis aliquam. Mauris cursus mattis molestie a iaculis at. Dui nunc mattis enim ut tellus. Urna duis convallis convallis tellus id interdum velit. Consequat id porta nibh venenatis cras. Pellentesque diam volutpat commodo sed egestas. Scelerisque viverra mauris in aliquam sem fringilla ut. Etiam dignissim diam quis enim lobortis scelerisque. Amet nulla facilisi morbi tempus iaculis urna id volutpat lacus. Dictum varius duis at consectetur.\n",
      "\n",
      "Pulvinar etiam non quam lacus suspendisse faucibus interdum posuere lorem. Tincidunt nunc pulvinar sapien et ligula ullamcorper. Lectus quam id leo in. Amet est placerat in egestas erat. Tortor pretium viverra suspendisse potenti nullam ac tortor vitae purus. Orci porta non pulvinar neque laoreet suspendisse interdum consectetur libero. A condimentum vitae sapien pellentesque habitant morbi tristique senectus et. Mi in nulla posuere sollicitudin aliquam ultrices. Venenatis cras sed felis eget. Etiam sit amet nisl purus in mollis nunc. In fermentum et sollicitudin ac orci. Aliquet nibh praesent tristique magna sit amet purus. Sagittis aliquam malesuada bibendum arcu vitae. Nisl vel pretium lectus quam id leo in. Mattis aliquam faucibus purus in massa tempor. Interdum velit laoreet id donec. Laoreet suspendisse interdum consectetur libero id faucibus nisl tincidunt. Morbi tincidunt ornare massa eget egestas purus viverra accumsan in. Et sollicitudin ac orci phasellus.\n",
      "\n",
      "Nunc consequat interdum varius sit amet mattis vulputate enim nulla. Libero nunc consequat interdum varius sit amet mattis vulputate enim. Mi in nulla posuere sollicitudin aliquam ultrices. Scelerisque in dictum non consectetur a erat. Etiam dignissim diam quis enim lobortis scelerisque. Diam sollicitudin tempor id eu nisl nunc mi. Imperdiet proin fermentum leo vel orci porta non pulvinar neque. Pellentesque diam volutpat commodo sed egestas egestas fringilla phasellus faucibus. Interdum consectetur libero id faucibus. Nunc sed velit dignissim sodales ut eu sem integer vitae.\n",
      "\n",
      "Maecenas sed enim ut sem viverra aliquet eget sit. Purus in mollis nunc sed id semper risus. Eu scelerisque felis imperdiet proin fermentum leo vel orci porta. Justo eget magna fermentum iaculis eu non diam phasellus vestibulum. Commodo odio aenean sed adipiscing diam. Dictum non consectetur a erat nam at lectus urna duis. Consequat mauris nunc congue nisi. Nisl vel pretium lectus quam id leo. Est velit egestas dui id ornare. Risus quis varius quam quisque id diam vel quam elementum. Cras tincidunt lobortis feugiat vivamus at augue.\n",
      "<class 'str'>\n"
     ]
    }
   ],
   "source": [
    "file_data = file_obj.read();\n",
    "print(file_data)\n",
    "print(type(file_data))"
   ]
  },
  {
   "attachments": {},
   "cell_type": "markdown",
   "metadata": {},
   "source": [
    "##### Now we want to read some part of text not whole text so we pass a parameter in read() function\n",
    "##### n = number of bytes to read from text file"
   ]
  },
  {
   "cell_type": "code",
   "execution_count": 3,
   "metadata": {},
   "outputs": [
    {
     "name": "stdout",
     "output_type": "stream",
     "text": [
      "Lorem ipsum dolor sit amet, consectetur adipiscing elit, sed do eiusmod tempor incididunt ut labore et dolore magna aliqua. Tincidunt vitae semper quis lectus nulla at. Blandit libero volutpat sed cras ornare arcu dui vivamus arcu. Erat imperdiet sed euismod nisi porta lorem mollis aliquam. Nunc lobortis mattis aliquam faucibus purus in massa tempor. Porta non pulvinar neque laoreet suspendisse interdum. Facilisis mauris sit amet massa vitae tortor condimentum. Suspendisse potenti nullam ac tortor vitae purus. Iaculis at erat pellentesque adipiscing. Ullamcorper sit amet risus nullam eget felis eget nunc. Amet massa vitae tortor condimentum lacinia quis. Cras adipiscing enim eu turpis egestas pretium aenean pharetra magna. Enim nec dui nunc mattis enim ut. Quam quisque id diam vel quam. Ultricies tristique nulla aliquet enim tortor at auctor urna nunc. Dolor purus non enim praesent elementum facilisis leo. Auctor urna nunc id cursus metus.\n",
      "\n",
      "Cursus metus aliquam eleifend mi in nulla pos\n"
     ]
    }
   ],
   "source": [
    "file_obj = open('../../Datasets/Sample_Text.txt', 'r')\n",
    "file_data = file_obj.read(1000);\n",
    "print(file_data)"
   ]
  },
  {
   "attachments": {},
   "cell_type": "markdown",
   "metadata": {},
   "source": [
    "##### Now to read no of line from text file we use readline() function with parameter n = number of bytes to read\n",
    "##### line is paragraph whole and it point to next para after it"
   ]
  },
  {
   "cell_type": "code",
   "execution_count": 4,
   "metadata": {},
   "outputs": [
    {
     "name": "stdout",
     "output_type": "stream",
     "text": [
      "Lorem ipsum dolor sit amet, consectetur adipiscing elit, sed do eiusmod tempor incididunt ut labore et dolore magna aliqua. Tincidunt vitae semper quis lectus nulla at. Blandit libero volutpat sed cras ornare arcu dui vivamus arcu. Erat imperdiet sed euismod nisi porta lorem mollis aliquam. Nunc lobortis mattis aliquam faucibus purus in massa tempor. Porta non pulvinar neque laoreet suspendisse interdum. Facilisis mauris sit amet massa vitae tortor condimentum. Suspendisse potenti nullam ac tortor vitae purus. Iaculis at erat pellentesque adipiscing. Ullamcorper sit amet risus nullam eget felis eget nunc. Amet massa vitae tortor condimentum lacinia quis. Cras adipiscing enim eu turpis egestas pretium aenean pharetra magna. Enim nec dui nunc mattis enim ut. Quam quisque id diam vel quam. Ultricies tristique nulla aliquet enim tortor at auctor urna nunc. Dolor purus non enim praesent elementum facilisis leo. Auctor urna nunc id cursus metus.\n",
      "\n",
      "\n",
      "\n",
      "Cursus metus aliquam eleifend mi in nulla posuere sollicitudin. Viverra tellus in hac habitasse platea dictumst vestibulum. Diam maecenas ultricies mi eget mauris pharetra. Dignissim suspendisse in est ante in. Orci ac auctor augue mauris augue neque gravida in. Arcu odio ut sem nulla pharetra diam sit amet. Ullamcorper morbi tincidunt ornare massa eget egestas purus. Nam libero justo laoreet sit amet. Sit amet commodo nulla facilisi nullam vehicula ipsum a arcu. Tristique et egestas quis ipsum suspendisse. Libero nunc consequat interdum varius sit amet mattis vulputate enim. Dui faucibus in ornare quam viverra orci sagittis eu. Interdum consectetur libero id faucibus nisl tincidunt eget. Semper auctor neque vitae tempus. Felis imperdiet proin fermentum leo. Rhoncus dolor purus non enim. Ut sem viverra aliquet eget sit amet tellus cras. Pellentesque elit ullamcorper dignissim cras tincidunt.\n",
      "\n"
     ]
    }
   ],
   "source": [
    "file_obj = open('../../Datasets/Sample_Text.txt', 'r')\n",
    "file_data = file_obj.readline()\n",
    "print(file_data)\n",
    "print(file_obj.readline())\n",
    "print(file_obj.readline())"
   ]
  },
  {
   "attachments": {},
   "cell_type": "markdown",
   "metadata": {},
   "source": [
    "##### After Specifying no of bytes in readline it will the no of bytes in whole para and if bytes is large than whole para it only read one para\n"
   ]
  },
  {
   "cell_type": "code",
   "execution_count": 5,
   "metadata": {},
   "outputs": [
    {
     "name": "stdout",
     "output_type": "stream",
     "text": [
      "Lorem ipsum dolor sit amet, consectetur adipiscing elit, sed do eiusmod tempor incididunt ut labore et dolore magna aliqua. Tincidunt vitae semper quis lectus nulla at. Blandit libero volutpat sed cras ornare arcu dui vivamus arcu. Erat imperdiet sed euismod nisi porta lorem mollis aliquam. Nunc lobortis mattis aliquam faucibus purus in massa tempor. Porta non pulvinar neque laoreet suspendisse interdum. Facilisis mauris sit amet massa vitae tortor condimentum. Suspendisse potenti nullam ac tortor vitae purus. Iaculis at erat pellentesque adipiscing. Ullamcorper sit amet risus nullam eget felis eget nunc. Amet massa vitae tortor condimentum lacinia quis. Cras adipiscing enim eu turpis egestas pretium aenean pharetra magna. Enim nec dui nunc mattis enim ut. Quam quisque id diam vel quam. Ultricies tristique nulla aliquet enim tortor at auctor urna nunc. Dolor purus non enim praesent elementum facilisis leo. Auctor urna nunc id cursus metus.\n",
      "\n"
     ]
    }
   ],
   "source": [
    "file_obj = open('../../Datasets/Sample_Text.txt', 'r')\n",
    "file_data = file_obj.readline(1000)\n",
    "print(file_data)"
   ]
  },
  {
   "cell_type": "code",
   "execution_count": 6,
   "metadata": {},
   "outputs": [
    {
     "name": "stdout",
     "output_type": "stream",
     "text": [
      "Cursus metus aliquam eleifend mi in nulla posuere sollicitudin. Viverra tellus in hac habitasse platea dictumst vestibulum. Diam maecenas ultricies mi eget mauris pharetra. Dignissim suspendisse in est ante in. Orci ac auctor augue mauris augue neque gravida in. Arcu odio ut sem nulla pharetra diam sit amet. Ullamcorper morbi tincidunt ornare massa eget egestas purus. Nam libero justo laoreet sit amet. Sit amet commodo nulla facilisi nullam vehicula ipsum a arcu. Tristique et egestas quis ipsum suspendisse. Libero nunc consequat interdum varius sit amet mattis vulputate enim. Dui faucibus in ornare quam viverra orci sagittis eu. Interdum consectetur libero id faucibus nisl tincidunt eget. Semper auctor neque vitae tempus. Felis imperdiet proin fermentum leo. Rhoncus dolor purus non enim. Ut sem viverra aliquet eget sit amet tellus cras. Pellentesque elit ullamcorper dignissim cras tincidunt.\n",
      "\n"
     ]
    }
   ],
   "source": [
    "# Now we use readlines() function create a list which contain all lines of text present\n",
    "\n",
    "file_obj = open(\"../../Datasets/Sample_Text.txt\", 'r');\n",
    "file_data = file_obj.readlines()\n",
    "print(file_data[2])\n",
    "\n",
    "#Now we have to close the open file also so we use close() function\n",
    "file_obj.close()"
   ]
  },
  {
   "attachments": {},
   "cell_type": "markdown",
   "metadata": {},
   "source": [
    "##### we can open file given below code so by using this close we have not to use close() function"
   ]
  },
  {
   "cell_type": "code",
   "execution_count": 7,
   "metadata": {},
   "outputs": [
    {
     "name": "stdout",
     "output_type": "stream",
     "text": [
      "Cursus metus aliquam eleifend mi in nulla posuere sollicitudin. Viverra tellus in hac habitasse platea dictumst vestibulum. Diam maecenas ultricies mi eget mauris pharetra. Dignissim suspendisse in est ante in. Orci ac auctor augue mauris augue neque gravida in. Arcu odio ut sem nulla pharetra diam sit amet. Ullamcorper morbi tincidunt ornare massa eget egestas purus. Nam libero justo laoreet sit amet. Sit amet commodo nulla facilisi nullam vehicula ipsum a arcu. Tristique et egestas quis ipsum suspendisse. Libero nunc consequat interdum varius sit amet mattis vulputate enim. Dui faucibus in ornare quam viverra orci sagittis eu. Interdum consectetur libero id faucibus nisl tincidunt eget. Semper auctor neque vitae tempus. Felis imperdiet proin fermentum leo. Rhoncus dolor purus non enim. Ut sem viverra aliquet eget sit amet tellus cras. Pellentesque elit ullamcorper dignissim cras tincidunt.\n",
      "\n",
      "Risus at ultrices mi tempus imperdiet nulla malesuada pellentesque. Sem et tortor consequat id. Morbi tincidunt augue interdum velit euismod in pellentesque massa placerat. Amet risus nullam eget felis eget nunc lobortis. Nisl rhoncus mattis rhoncus urna neque viverra justo nec ultrices. Turpis in eu mi bibendum neque egestas congue. Et tortor consequat id porta nibh venenatis cras. Facilisis gravida neque convallis a. Et odio pellentesque diam volutpat commodo sed egestas. Proin sagittis nisl rhoncus mattis rhoncus urna neque viverra justo. Vel risus commodo viverra maecenas accumsan lacus vel. Id nibh tortor id aliquet. Quis vel eros donec ac. Quisque egestas diam in arcu cursus euismod. Habitasse platea dictumst quisque sagittis purus. Curabitur vitae nunc sed velit dignissim sodales ut eu. Pellentesque diam volutpat commodo sed. Non odio euismod lacinia at quis risus sed vulputate odio. Nunc eget lorem dolor sed viverra ipsum nunc aliquet bibendum.\n",
      "\n"
     ]
    }
   ],
   "source": [
    "with open('../../Datasets/Sample_Text.txt', 'r') as file_obj:\n",
    "    file_data = file_obj.readlines()\n",
    "    print(file_data[2])\n",
    "\n",
    "# After come out from above we can still use the file content\n",
    "print(file_data[4])"
   ]
  }
 ],
 "metadata": {
  "kernelspec": {
   "display_name": "Python 3 (ipykernel)",
   "language": "python",
   "name": "python3"
  },
  "language_info": {
   "codemirror_mode": {
    "name": "ipython",
    "version": 3
   },
   "file_extension": ".py",
   "mimetype": "text/x-python",
   "name": "python",
   "nbconvert_exporter": "python",
   "pygments_lexer": "ipython3",
   "version": "3.11.1"
  },
  "vscode": {
   "interpreter": {
    "hash": "a99aa927c047f16092285f229c40e6efb62a1024233dd44b520fa1c403c66f06"
   }
  }
 },
 "nbformat": 4,
 "nbformat_minor": 2
}
