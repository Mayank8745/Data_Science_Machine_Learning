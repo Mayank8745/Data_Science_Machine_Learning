{
 "cells": [
  {
   "cell_type": "markdown",
   "metadata": {},
   "source": [
    "# Assignment Statement\n",
    "\n",
    "For this assignment, we'll be using \"Amazon Job Dataset\" which is collected by scraping https://amazon.jobs  \n",
    "\n",
    "Different fields of dataset and what they represent  \n",
    "Title : The title of the job  \n",
    "Location : Location of the job  \n",
    "Posting_date : Posting date of the job  \n",
    "Description: Overall description for the job  \n",
    "Basic Qualifications: Minimum Qualifications for the job  \n",
    "Preferred Qualifications: Preferred Qualifications for the job  \n",
    "\n",
    "By analysing this dataset, we can find out many interesting insights such as -  \n",
    "- number of job openings in a specific location  \n",
    "- jobs available for a specific qualification  \n",
    "- Most popular skillset   \n",
    "- and many other things  "
   ]
  },
  {
   "cell_type": "code",
   "execution_count": 35,
   "metadata": {},
   "outputs": [],
   "source": [
    "import csv"
   ]
  },
  {
   "cell_type": "markdown",
   "metadata": {},
   "source": [
    "# Problem - 1\n",
    "\n",
    "Problem Statement :\n",
    "Find number of job openings in Bangalore,IN and in Seattle,US?  \n",
    "Print the Number of Job opening in Bangalore and Seattle as Integer value.  \n",
    "\n",
    "Output Format :  \n",
    "CountBangalore CountSeattle  "
   ]
  },
  {
   "cell_type": "code",
   "execution_count": 36,
   "metadata": {},
   "outputs": [
    {
     "name": "stdout",
     "output_type": "stream",
     "text": [
      "66 1856\n"
     ]
    }
   ],
   "source": [
    "countBanglore = 0\n",
    "countSeattle = 0\n",
    "\n",
    "with open('../../Datasets/amazon_jobs_dataset_present_coding_ninjas_assignment.csv', encoding='utf-8') as file_obj:\n",
    "    file_data = csv.DictReader(file_obj, skipinitialspace=True)\n",
    "\n",
    "    for row in file_data:\n",
    "        location = row['location']\n",
    "        if 'Bangalore' in location:\n",
    "            countBanglore += 1\n",
    "        elif 'Seattle' in location:\n",
    "            countSeattle += 1\n",
    "\n",
    "print(countBanglore, countSeattle)"
   ]
  },
  {
   "cell_type": "markdown",
   "metadata": {},
   "source": [
    "# Problem - 2\n",
    "\n",
    "Problem Statement :  \n",
    "What are the total number of job openings related to Computer Vision ?  \n",
    "Note:For finding the job related to computer vision check the Job Title column.  \n",
    "Print the count as the Integer Value  \n",
    "\n",
    "Output Format :  \n",
    "Count  "
   ]
  },
  {
   "cell_type": "code",
   "execution_count": 37,
   "metadata": {},
   "outputs": [
    {
     "name": "stdout",
     "output_type": "stream",
     "text": [
      "14\n"
     ]
    }
   ],
   "source": [
    "count = 0\n",
    "\n",
    "with open('../../Datasets/amazon_jobs_dataset_present_coding_ninjas_assignment.csv', encoding='utf-8') as file_obj:\n",
    "    file_data = csv.DictReader(file_obj, skipinitialspace=True)\n",
    "\n",
    "    for row in file_data:\n",
    "        title = row['Title']\n",
    "        if 'Computer Vision' in title:\n",
    "            count += 1\n",
    "\n",
    "print(count)"
   ]
  },
  {
   "cell_type": "markdown",
   "metadata": {},
   "source": [
    "# Problem - 3\n",
    "\n",
    "Problem Statement :  \n",
    "Find the number of job openings in Canada?  \n",
    "Canda Country Code - CA  \n",
    "Print the count as the Integer Value  \n",
    "Note: Here you should analyse the country code in location feature.( you can use dictionary for analyse part ).  \n",
    "\n",
    "Output Format :  \n",
    "Count  "
   ]
  },
  {
   "cell_type": "code",
   "execution_count": 38,
   "metadata": {},
   "outputs": [
    {
     "name": "stdout",
     "output_type": "stream",
     "text": [
      "156\n"
     ]
    }
   ],
   "source": [
    "count = 0\n",
    "\n",
    "with open('../../Datasets/amazon_jobs_dataset_present_coding_ninjas_assignment.csv', encoding='utf-8') as file_obj:\n",
    "    file_data = csv.DictReader(file_obj, skipinitialspace=True)\n",
    "\n",
    "    for row in file_data:\n",
    "        location = row['location']\n",
    "        if 'CA' in location[0:2]:\n",
    "            count += 1\n",
    "\n",
    "print(count)"
   ]
  },
  {
   "cell_type": "markdown",
   "metadata": {},
   "source": [
    "# Problem - 4\n",
    "\n",
    "Problem Statement :  \n",
    "Find the month having most job openings in Year 2018 ?  \n",
    "Print the month (Month Name i.e January, February, March) and Number of job opening as Integer Value  \n",
    "\n",
    "Output Format :  \n",
    "MonthName Count  "
   ]
  },
  {
   "cell_type": "code",
   "execution_count": 39,
   "metadata": {},
   "outputs": [
    {
     "name": "stdout",
     "output_type": "stream",
     "text": [
      "January 907\n"
     ]
    }
   ],
   "source": [
    "month_count = {}\n",
    "\n",
    "with open('../../Datasets/amazon_jobs_dataset_present_coding_ninjas_assignment.csv', encoding='utf-8') as file_obj:\n",
    "    file_data = csv.DictReader(file_obj, skipinitialspace=True)\n",
    "\n",
    "    for row in file_data:\n",
    "        posting_date = row['Posting_date'].split(' ')\n",
    "        if '2018' in posting_date:\n",
    "            if posting_date[0] in month_count:\n",
    "                month_count[posting_date[0]] += 1\n",
    "            else:\n",
    "                month_count[posting_date[0]] = 1\n",
    "\n",
    "month = \"\"\n",
    "count = 0\n",
    "for i in month_count:\n",
    "    if count < month_count[i]:\n",
    "        month = i\n",
    "        count = month_count[i]\n",
    "\n",
    "print(month, count)"
   ]
  },
  {
   "cell_type": "markdown",
   "metadata": {},
   "source": [
    "# Problem - 5\n",
    "\n",
    "Problem Statement :  \n",
    "Find the number of job openings are present if applicant have Bachelor degree?  \n",
    "Print the count as Integer value  \n",
    "\n",
    "Note : Here we will use the BASIC QUALIFICATIONS feature to find out whether bachelor degree for Job is required or not.   Keywords that can be used are 'Bachelor', 'BS' and 'BA'.  \n",
    "\n",
    "Output Format :  \n",
    "Count  "
   ]
  },
  {
   "cell_type": "code",
   "execution_count": 40,
   "metadata": {},
   "outputs": [
    {
     "name": "stdout",
     "output_type": "stream",
     "text": [
      "3868\n"
     ]
    }
   ],
   "source": [
    "count_ans = 0\n",
    "\n",
    "with open('../../Datasets/amazon_jobs_dataset_present_coding_ninjas_assignment.csv', encoding='utf-8') as file_obj:\n",
    "    file_data = csv.DictReader(file_obj, skipinitialspace=True)\n",
    "\n",
    "    for row in file_data:\n",
    "        if 'Bachelor' in row['BASIC QUALIFICATIONS']:\n",
    "            count += 1\n",
    "        elif 'BS' in row['BASIC QUALIFICATIONS']:\n",
    "            count += 1\n",
    "        elif 'BA' in row['BASIC QUALIFICATIONS']:\n",
    "            count += 1\n",
    "\n",
    "print(count)"
   ]
  },
  {
   "cell_type": "markdown",
   "metadata": {},
   "source": [
    "# Problem - 6\n",
    "\n",
    "Problem Statement :  \n",
    "Among Java, C++ and Python, which of the language has more job openings in India for Bachelor Degree Holder?  \n",
    "Print the Language(i.e Java,C++,Python) and number of job opening as integer value.  \n",
    "\n",
    "Note : Here we will use the BASIC QUALIFICATIONS feature to find out whether bachelor degree for Job is required or not. Keywords that can be used are 'Bachelor', 'BS' and 'BA' and we will use the BASIC QUALIFICATIONS feature to find out whether Language is required for the job or not.Keywords that is used for language searching are 'Java','C++' or 'Python'.(There case should not be changed).\n",
    "\n",
    "Output Format :  \n",
    "Language Count"
   ]
  },
  {
   "cell_type": "code",
   "execution_count": 41,
   "metadata": {},
   "outputs": [
    {
     "name": "stdout",
     "output_type": "stream",
     "text": [
      "Java 103\n"
     ]
    }
   ],
   "source": [
    "def jobs_in_india(str):\n",
    "    str = str.split(',')\n",
    "    if str[0] == 'IN':\n",
    "        return True\n",
    "    else:\n",
    "        return False\n",
    "\n",
    "def bachelor_in_description(str):\n",
    "    if 'Bachelor' in str:\n",
    "        return True\n",
    "    elif 'BS' in str:\n",
    "        return True\n",
    "    elif 'BA' in str:\n",
    "        return True\n",
    "    else:\n",
    "        return False\n",
    "\n",
    "def coding_language(str, language):\n",
    "    if language in str:\n",
    "        return True\n",
    "    else:\n",
    "        return False\n",
    "\n",
    "india_job_description = []\n",
    "\n",
    "with open('../../Datasets/amazon_jobs_dataset_present_coding_ninjas_assignment.csv', encoding='utf-8') as file_obj:\n",
    "    file_data = csv.DictReader(file_obj, skipinitialspace=True)\n",
    "\n",
    "    for row in file_data:\n",
    "        location = row['location']\n",
    "        if jobs_in_india(location):\n",
    "            description = row['BASIC QUALIFICATIONS']\n",
    "            if bachelor_in_description(description):\n",
    "                india_job_description.append(description)\n",
    "\n",
    "count_language_jobs = {}\n",
    "count_language_jobs['C++'] = 0\n",
    "count_language_jobs['Python'] = 0\n",
    "count_language_jobs['Java'] = 0\n",
    "\n",
    "\n",
    "for i in india_job_description:\n",
    "    if coding_language(i, 'C++'):\n",
    "        count_language_jobs['C++'] += 1\n",
    "    if coding_language(i, 'Java'):\n",
    "        count_language_jobs['Java'] += 1\n",
    "    if coding_language(i, 'Python'):\n",
    "        count_language_jobs['Python'] += 1\n",
    "\n",
    "language = \"\"\n",
    "count = 0\n",
    "\n",
    "for i in count_language_jobs:\n",
    "    if count < count_language_jobs[i]:\n",
    "        count = count_language_jobs[i]\n",
    "        language = i\n",
    "\n",
    "\n",
    "print(language, count)"
   ]
  },
  {
   "cell_type": "markdown",
   "metadata": {},
   "source": [
    "# Problem - 7\n",
    "\n",
    "Problem Statement :  \n",
    "Find the country does Amazon need the most number of Java Developer?  \n",
    "Print the Country(Country Shortcut as given in Dataset) and number of job opening as integer value  \n",
    "Note :Here we will use the BASIC QUALIFICATIONS feature to find out whether Java is required for the job or not.Keyword is used is 'Java'.(Here case should not be changed).  \n",
    "\n",
    "Output Format :  \n",
    "Country NumberofJobs  \n",
    "For example : US 40  "
   ]
  },
  {
   "cell_type": "code",
   "execution_count": 42,
   "metadata": {},
   "outputs": [
    {
     "name": "stdout",
     "output_type": "stream",
     "text": [
      "US 2009\n"
     ]
    }
   ],
   "source": [
    "def get_country_code(str):\n",
    "    str = str.split(',')\n",
    "    return str[0]\n",
    "\n",
    "def language_is_present(str, language):\n",
    "    if language in str:\n",
    "        return True\n",
    "    else:\n",
    "        return False\n",
    "\n",
    "country_jobs = {}\n",
    "\n",
    "with open('../../Datasets/amazon_jobs_dataset_present_coding_ninjas_assignment.csv', encoding='utf-8') as file_obj:\n",
    "    file_data = csv.DictReader(file_obj, skipinitialspace=True)\n",
    "\n",
    "    for row in file_data:\n",
    "        location = row['location']\n",
    "        description = row['BASIC QUALIFICATIONS']\n",
    "        country_code = get_country_code(location)\n",
    "        java_is_present = language_is_present(description, 'Java')\n",
    "        \n",
    "        if java_is_present:\n",
    "            if country_code in country_jobs:\n",
    "                country_jobs[country_code] += 1\n",
    "            else:\n",
    "                country_jobs[country_code] = 1\n",
    "\n",
    "country = \"\"\n",
    "count = 0\n",
    "\n",
    "for i in country_jobs:\n",
    "    if count < country_jobs[i]:\n",
    "        count = country_jobs[i]\n",
    "        country = i\n",
    "\n",
    "print(country, count)"
   ]
  }
 ],
 "metadata": {
  "kernelspec": {
   "display_name": "Python 3 (ipykernel)",
   "language": "python",
   "name": "python3"
  },
  "language_info": {
   "codemirror_mode": {
    "name": "ipython",
    "version": 3
   },
   "file_extension": ".py",
   "mimetype": "text/x-python",
   "name": "python",
   "nbconvert_exporter": "python",
   "pygments_lexer": "ipython3",
   "version": "3.9.13"
  },
  "vscode": {
   "interpreter": {
    "hash": "a99aa927c047f16092285f229c40e6efb62a1024233dd44b520fa1c403c66f06"
   }
  }
 },
 "nbformat": 4,
 "nbformat_minor": 2
}
