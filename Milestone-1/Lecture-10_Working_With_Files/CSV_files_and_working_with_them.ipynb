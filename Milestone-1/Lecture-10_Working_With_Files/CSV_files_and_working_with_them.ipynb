{
 "cells": [
  {
   "cell_type": "markdown",
   "metadata": {},
   "source": [
    "# CSV Files\n",
    "\n",
    "CSV stands for Comma Seperated values.\n",
    "The data is seperated by comma.\n",
    "it is present in tabular form such as rows and columns.\n",
    "Columns - field Data or Attribute of data which means that the which data is present in column with its name.\n",
    "Row - Record present in dataset"
   ]
  },
  {
   "cell_type": "code",
   "execution_count": 5,
   "metadata": {},
   "outputs": [
    {
     "name": "stdout",
     "output_type": "stream",
     "text": [
      "['Year,Month,Day,Country,State,Region,City,Latitude,Longitude,AttackType,Killed,Wounded,Target,Summary,Group,Target_type,Weapon_type\\n', '1970,7,2,Dominican Republic,,Central America & Caribbean,Santo Domingo,18.456792,-69.951164,Assassination,1.0,0.0,Julio Guzman,,MANO-D,Private Citizens & Property,Unknown\\n', '1970,0,0,Mexico,Federal,North America,Mexico city,19.371887,-99.086624,Hostage Taking (Kidnapping),0.0,0.0,\"Nadine Chaval, daughter\",,23rd of September Communist League,Government (Diplomatic),Unknown\\n', '1970,1,0,Philippines,Tarlac,Southeast Asia,Unknown,15.478598000000002,120.599741,Assassination,1.0,0.0,Employee,,Unknown,Journalists & Media,Unknown\\n', '1970,1,0,Greece,Attica,Western Europe,Athens,37.99749,23.762728,Bombing/Explosion,,,U.S. Embassy,,Unknown,Government (Diplomatic),Explosives\\n']\n"
     ]
    }
   ],
   "source": [
    "# Problem with read and readline fnction to be used with csv files that it \n",
    "# convert whole row in string and not able to seperate comma values\n",
    "with open('../../Datasets/terrorismData_CN.csv', 'r', encoding = 'utf - 8') as file_obj:\n",
    "    file_data = file_obj.readlines()\n",
    "\n",
    "print(file_data[:5])"
   ]
  },
  {
   "cell_type": "markdown",
   "metadata": {},
   "source": [
    "###### To read csv we use csv library contain reader() function in parameter  \n",
    "###### we have to pass file_obj in it  "
   ]
  },
  {
   "cell_type": "code",
   "execution_count": 6,
   "metadata": {},
   "outputs": [],
   "source": [
    "import csv"
   ]
  },
  {
   "cell_type": "code",
   "execution_count": 7,
   "metadata": {},
   "outputs": [
    {
     "name": "stdout",
     "output_type": "stream",
     "text": [
      "<class '_csv.reader'>\n"
     ]
    }
   ],
   "source": [
    "with open('../../Datasets/terrorismData_CN.csv', 'r') as file_obj:\n",
    "    file_data = csv.reader(file_obj)\n",
    "        \n",
    "\n",
    "print(type(file_data))\n",
    "\n",
    "# In this output information is seperated by comma.\n",
    "# delimiter which seprated values by sign by default it is comma\n",
    "# but we can specify delimiter by specify it delimiter = sign\n",
    "\n",
    "# Also our seperate value contain initial spce which can be remove by adding parameter\n",
    "# skipinitialspace = True"
   ]
  },
  {
   "cell_type": "markdown",
   "metadata": {},
   "source": [
    "# Question's Statement\n",
    "\n",
    "Given file \"Terrorism_data.csv\"\n",
    "\n",
    "It is an open-source database including information on terrorist attacks around the world from 1970 through 2017. This dataset includes systematic data on domestic as well as international terrorist incidents that have occurred during this time period"
   ]
  },
  {
   "cell_type": "markdown",
   "metadata": {},
   "source": [
    "# Problem - 1\n",
    "\n",
    "Problem Statement :  \n",
    "Open and read the file  \n",
    "Print the first 3 rows of the file, excluding header (in different lines)  \n",
    "Print columns of one row, separated by space  \n",
    "\n",
    "Output Format :  \n",
    "col_1 col_2 col_3 col_4 ....  \n",
    "col_1 col_2 col_3 col_4 ....  \n",
    "col_1 col_2 col_3 col_4 ...."
   ]
  },
  {
   "cell_type": "code",
   "execution_count": 8,
   "metadata": {},
   "outputs": [
    {
     "name": "stdout",
     "output_type": "stream",
     "text": [
      "['2017', '1', '2', 'Afghanistan', 'South Asia', 'Takhta Pul', '31.320556', '65.961111', 'Hostage Taking (Kidnapping)', '0.0', '0.0', 'Construction Workers', 'Taliban', 'Business', 'Firearms', '0.0']\n",
      "['2017', '1', '3', 'Sudan', 'Sub-Saharan Africa', 'Fantaga', '12.921007000000001', '24.318324', 'Armed Assault', '2.0', '0.0', 'Civilians: Haroun Yousif, Hamid Ibrahim', 'Unknown', 'Private Citizens & Property', 'Firearms', '2.0']\n",
      "['2017', '1', '1', 'Democratic Republic of the Congo', 'Sub-Saharan Africa', 'Saboko', '1.452372', '29.875162', 'Armed Assault', '7.0', '0.0', 'Village', 'Allied Democratic Forces (ADF)', 'Private Citizens & Property', 'Melee', '7.0']\n"
     ]
    }
   ],
   "source": [
    "with open('../../Datasets/year2017.csv') as file_obj:\n",
    "    file_data = csv.reader(file_obj, delimiter=',', skipinitialspace=True);\n",
    "\n",
    "    data = list(file_data)\n",
    "\n",
    "for i in range(1, 4):\n",
    "    print(data[i])\n"
   ]
  },
  {
   "cell_type": "markdown",
   "metadata": {},
   "source": [
    "# Problem - 2\n",
    "\n",
    "Problem Statement :  \n",
    "Open and read the file  \n",
    "Print the name of columns (in different lines)  \n",
    "\n",
    "Output Format :  \n",
    "Column 1  \n",
    "Column 2  \n",
    "Column 3  \n",
    "and so on  \n"
   ]
  },
  {
   "cell_type": "code",
   "execution_count": 9,
   "metadata": {},
   "outputs": [
    {
     "name": "stdout",
     "output_type": "stream",
     "text": [
      "Year\n",
      "Month\n",
      "Day\n",
      "Country\n",
      "Region\n",
      "city\n",
      "latitude\n",
      "longitude\n",
      "AttackType\n",
      "Killed\n",
      "Wounded\n",
      "Target\n",
      "Group\n",
      "Target_type\n",
      "Weapon_type\n",
      "casualities\n"
     ]
    }
   ],
   "source": [
    "with open('../../Datasets/year2017.csv') as file_obj:\n",
    "    file_data = csv.reader(file_obj)\n",
    "    data = list(file_data)\n",
    "\n",
    "for i in data[0]:\n",
    "    print(i)"
   ]
  },
  {
   "cell_type": "markdown",
   "metadata": {},
   "source": [
    "# Problem - 3\n",
    "\n",
    "Problem Statement :  \n",
    "Open and read the file  \n",
    "Print the country names from first 10 rows (in different lines)  \n",
    "\n",
    "Output Format :  \n",
    "Country 1  \n",
    "Country 2  \n",
    "Country 3  \n",
    "and so on  "
   ]
  },
  {
   "cell_type": "code",
   "execution_count": 10,
   "metadata": {},
   "outputs": [
    {
     "name": "stdout",
     "output_type": "stream",
     "text": [
      "Afghanistan\n",
      "Sudan\n",
      "Democratic Republic of the Congo\n",
      "Democratic Republic of the Congo\n",
      "Turkey\n",
      "Syria\n",
      "Pakistan\n",
      "Italy\n",
      "Turkey\n",
      "Turkey\n"
     ]
    }
   ],
   "source": [
    "with open('../../Datasets/year2017.csv') as file_obj:\n",
    "    file_data = csv.reader(file_obj)\n",
    "\n",
    "    data = list(file_data)\n",
    "\n",
    "for i in range(1, 11):\n",
    "    print(data[i][3])"
   ]
  },
  {
   "cell_type": "markdown",
   "metadata": {},
   "source": [
    "# Problem - 4\n",
    "\n",
    "Problem Statement :  \n",
    "Open and read the file  \n",
    "Print the total no of peoples killed in 2017.  \n",
    "\n",
    "Output Format :  \n",
    "Total_killed_Person in 2017  "
   ]
  },
  {
   "cell_type": "code",
   "execution_count": 11,
   "metadata": {},
   "outputs": [
    {
     "name": "stdout",
     "output_type": "stream",
     "text": [
      "26445.0\n"
     ]
    }
   ],
   "source": [
    "with open('../../Datasets/year2017.csv') as file_obj:\n",
    "    file_data = csv.reader(file_obj)\n",
    "\n",
    "    data = list(file_data)\n",
    "\n",
    "total_killed = 0\n",
    "for i in range(1, len(data)):\n",
    "    if(data[i][9] == ''):\n",
    "        continue\n",
    "    total_killed += float(data[i][9])\n",
    "\n",
    "print(total_killed)"
   ]
  },
  {
   "cell_type": "markdown",
   "metadata": {},
   "source": [
    "# Problem - 5\n",
    "\n",
    "Problem Statement :  \n",
    "Find and print the total number of wounded people.  \n",
    "Print the count as integer value.  \n",
    "Note : There can be missing values in \"Wounded\" column. You should try to print the values of   \n",
    "\"Wounded\" column and observe.  \n",
    "\n",
    "Output Format :  \n",
    "Count  \n"
   ]
  },
  {
   "cell_type": "code",
   "execution_count": 12,
   "metadata": {},
   "outputs": [
    {
     "name": "stdout",
     "output_type": "stream",
     "text": [
      "24927\n"
     ]
    }
   ],
   "source": [
    "with open('../../Datasets/year2017.csv') as file_obj:\n",
    "    file_data = csv.reader(file_obj)\n",
    "\n",
    "    data = list(file_data)\n",
    "    wounded = []\n",
    "\n",
    "    for i in range(1, len(data)):\n",
    "        if(data[i][10] == ''):\n",
    "            wounded.append(0)\n",
    "        else:\n",
    "            wounded.append(float(data[i][10]))\n",
    "\n",
    "print(int(sum(wounded)))"
   ]
  },
  {
   "cell_type": "markdown",
   "metadata": {},
   "source": [
    "# Problem - 6\n",
    "\n",
    "Problem Statement :  \n",
    "Find and print the total number of wounded people who are from country \"India\".  \n",
    "Print the count as integer value.  \n",
    "Note : There can be missing values in \"Wounded\" column. You should try to print the values of \"Wounded\" column and observe.  \n",
    "\n",
    "Output Format :  \n",
    "Count  "
   ]
  },
  {
   "cell_type": "code",
   "execution_count": 13,
   "metadata": {},
   "outputs": [
    {
     "name": "stdout",
     "output_type": "stream",
     "text": [
      "702\n"
     ]
    }
   ],
   "source": [
    "with open('../../Datasets/year2017.csv') as file_obj:\n",
    "    file_data = csv.reader(file_obj)\n",
    "\n",
    "    data = list(file_data)\n",
    "    wounded = []\n",
    "\n",
    "    for i in range(1, len(data)):\n",
    "        if(data[i][3] == \"India\" and data[i][10] != ''):\n",
    "            wounded.append(float(data[i][10]))\n",
    "\n",
    "print(int(sum(wounded)))"
   ]
  },
  {
   "cell_type": "code",
   "execution_count": 14,
   "metadata": {},
   "outputs": [
    {
     "name": "stdout",
     "output_type": "stream",
     "text": [
      "{'Year': '2017', 'Month': '1', 'Day': '2', 'Country': 'Afghanistan', 'Region': 'South Asia', 'city': 'Takhta Pul', 'latitude': '31.320556', 'longitude': '65.961111', 'AttackType': 'Hostage Taking (Kidnapping)', 'Killed': '0.0', 'Wounded': '0.0', 'Target': 'Construction Workers', 'Group': 'Taliban', 'Target_type': 'Business', 'Weapon_type': 'Firearms', 'casualities': '0.0'}\n",
      "{'Year': '2017', 'Month': '1', 'Day': '3', 'Country': 'Sudan', 'Region': 'Sub-Saharan Africa', 'city': 'Fantaga', 'latitude': '12.921007000000001', 'longitude': '24.318324', 'AttackType': 'Armed Assault', 'Killed': '2.0', 'Wounded': '0.0', 'Target': 'Civilians: Haroun Yousif, Hamid Ibrahim', 'Group': 'Unknown', 'Target_type': 'Private Citizens & Property', 'Weapon_type': 'Firearms', 'casualities': '2.0'}\n"
     ]
    }
   ],
   "source": [
    "# DicReader function is going to be used from here\n",
    "# it convert data in form of dictionary which contain key value pairs\n",
    "# we can gives custom key name by using fieldnames = ('a', 'b', 'c')\n",
    "\n",
    "with open('../../Datasets/year2017.csv') as file_obj:\n",
    "    file_data = csv.DictReader(file_obj, skipinitialspace=True)\n",
    "\n",
    "    data = list(file_data)\n",
    "\n",
    "    for i in range(0, 2):\n",
    "        print(data[i])"
   ]
  },
  {
   "cell_type": "markdown",
   "metadata": {},
   "source": [
    "# Problem - 7\n",
    "\n",
    "Problem Statement :  \n",
    "Find and print total number of casualties with “Explosives” Weapon_type.  \n",
    "Print the count as integer value.  \n",
    "Note : There can be missing values in \"casualties\" column and there are some initial spaces present in every value. You   \n",
    "should try to print the values and observe.  \n",
    "\n",
    "Output Format :  \n",
    "Count  "
   ]
  },
  {
   "cell_type": "code",
   "execution_count": 15,
   "metadata": {},
   "outputs": [
    {
     "name": "stdout",
     "output_type": "stream",
     "text": [
      "29280\n"
     ]
    }
   ],
   "source": [
    "total_casualties = 0\n",
    "\n",
    "with open('../../Datasets/year2017.csv') as file_obj:\n",
    "    file_data = csv.DictReader(file_obj, skipinitialspace=True)\n",
    "\n",
    "    for row in file_data:\n",
    "        if(row['Weapon_type'] == \"Explosives\" and row['casualities'] != ''):\n",
    "            total_casualties += float(row['casualities'])\n",
    "\n",
    "print(int(total_casualties))"
   ]
  },
  {
   "cell_type": "markdown",
   "metadata": {},
   "source": [
    "# Problem - 9\n",
    "\n",
    "Count Country wise Killed"
   ]
  },
  {
   "cell_type": "code",
   "execution_count": 16,
   "metadata": {},
   "outputs": [
    {
     "name": "stdout",
     "output_type": "stream",
     "text": [
      "{'Afghanistan': 6092.0, 'Sudan': 82.0, 'Democratic Republic of the Congo': 596.0, 'Turkey': 222.0, 'Syria': 2026.0, 'Pakistan': 1076.0, 'Italy': 0.0, 'Somalia': 1912.0, 'Yemen': 762.0, 'Bahrain': 6.0, 'Myanmar': 218.0, 'Burundi': 20.0, 'Iraq': 6476.0, 'Egypt': 877.0, 'Burkina Faso': 53.0, 'India': 465.0, 'Algeria': 12.0, 'United States': 95.0, 'Philippines': 496.0, 'Greece': 0.0, 'Mali': 361.0, 'Libya': 289.0, 'Central African Republic': 601.0, 'Lebanon': 17.0, 'Mexico': 23.0, 'Cameroon': 228.0, 'Ethiopia': 67.0, 'Nigeria': 1805.0, 'Kyrgyzstan': 0.0, 'Serbia': 0.0, 'Sweden': 5.0, 'Thailand': 72.0, 'Iran': 39.0, 'France': 7.0, 'United Kingdom': 42.0, 'West Bank and Gaza Strip': 50.0, 'Ukraine': 40.0, 'Paraguay': 4.0, 'Colombia': 84.0, 'Malaysia': 4.0, 'Russia': 61.0, 'Kosovo': 0.0, 'South Africa': 21.0, 'Chile': 0.0, 'Kenya': 126.0, 'Israel': 3.0, 'Saudi Arabia': 31.0, 'China': 16.0, 'Nepal': 4.0, 'Ecuador': 0.0, 'Niger': 148.0, 'Venezuela': 5.0, 'South Sudan': 581.0, 'Canada': 6.0, 'Bangladesh': 25.0, 'Tajikistan': 1.0, 'Ireland': 0.0, 'Peru': 8.0, 'Angola': 7.0, 'Dominican Republic': 2.0, 'Poland': 0.0, 'Jordan': 4.0, 'Azerbaijan': 5.0, 'Mozambique': 22.0, 'Indonesia': 20.0, 'Germany': 1.0, 'Brazil': 0.0, 'Macedonia': 0.0, 'Tunisia': 5.0, 'Uganda': 7.0, 'Chad': 62.0, 'Finland': 2.0, 'Australia': 4.0, 'Norway': 0.0, 'Vietnam': 0.0, 'Tanzania': 8.0, 'Sierra Leone': 0.0, 'Sri Lanka': 1.0, 'Maldives': 1.0, 'Belgium': 2.0, 'Rwanda': 2.0, 'Honduras': 2.0, 'Czech Republic': 0.0, 'Malta': 1.0, 'Gabon': 0.0, 'Laos': 1.0, 'Austria': 2.0, 'Zambia': 0.0, 'Argentina': 0.0, 'Papua New Guinea': 0.0, 'Zimbabwe': 0.0, 'Ivory Coast': 3.0, 'Spain': 21.0, 'Taiwan': 0.0, 'Jamaica': 0.0, 'Albania': 0.0, 'Liberia': 0.0, 'Georgia': 0.0, 'Malawi': 0.0, 'Netherlands': 0.0, 'Latvia': 0.0}\n"
     ]
    }
   ],
   "source": [
    "country_killed = {}\n",
    "\n",
    "with open('../../Datasets/year2017.csv') as file_obj:\n",
    "    file_data = csv.DictReader(file_obj, skipinitialspace=True)\n",
    "\n",
    "    for row in file_data:\n",
    "        if(row['Country'] != '' and row['Killed'] != ''):\n",
    "            if(country_killed.get(row['Country']) == None):\n",
    "                country_killed[row['Country']] = 0.0 \n",
    "            place = row['Country']\n",
    "            num = row['Killed']\n",
    "            country_killed[place] += float(num)\n",
    "\n",
    "\n",
    "print(country_killed)"
   ]
  },
  {
   "cell_type": "markdown",
   "metadata": {},
   "source": [
    "# Problem - 10\n",
    "\n",
    "Problem Statement :  \n",
    "Find the total number people killed in each month.  \n",
    "Print the month and count of killed people as integer value.  \n",
    "\n",
    "Output Format :  \n",
    "Month_1 Count_1  \n",
    "Month_2 Count_2  \n",
    "Month_3 Count_3  \n",
    "and so on  "
   ]
  },
  {
   "cell_type": "code",
   "execution_count": 17,
   "metadata": {},
   "outputs": [
    {
     "name": "stdout",
     "output_type": "stream",
     "text": [
      "{'1': 2275.0, '2': 2027.0, '3': 2463.0, '4': 2142.0, '5': 2936.0, '6': 2506.0, '7': 2228.0, '8': 2145.0, '9': 1764.0, '10': 2580.0, '11': 2014.0, '12': 1365.0}\n"
     ]
    }
   ],
   "source": [
    "month_killed = {}\n",
    "\n",
    "with open('../../Datasets/year2017.csv') as file_obj:\n",
    "    file_data = csv.DictReader(file_obj, skipinitialspace=True)\n",
    "\n",
    "    for row in file_data:\n",
    "        if(row['Month'] != '' and row['Killed'] != ''):\n",
    "            month = (row['Month'])\n",
    "            num = row['Killed']\n",
    "            if(month in month_killed):\n",
    "                month_killed[month] += float(num)\n",
    "            else:\n",
    "                month_killed[month] = float(num)\n",
    "\n",
    "print(month_killed)"
   ]
  },
  {
   "cell_type": "markdown",
   "metadata": {},
   "source": [
    "# Problem - 11\n",
    "\n",
    "Problem Statement :  \n",
    "Find total number of casualties in each country.  \n",
    "Print number of casualties as integer value.  \n",
    "Note : For any missing value of casualty column, take 0 as value  \n",
    "\n",
    "Output Format :  \n",
    "country_1 casualties_1  \n",
    "country_2 casualties_2  \n",
    "country_3 casualties_3  \n",
    "and so on  "
   ]
  },
  {
   "cell_type": "code",
   "execution_count": 18,
   "metadata": {},
   "outputs": [
    {
     "name": "stdout",
     "output_type": "stream",
     "text": [
      "{'Afghanistan': 11698.0, 'Sudan': 255.0, 'Democratic Republic of the Congo': 636.0, 'Turkey': 548.0, 'Pakistan': 3153.0, 'Italy': 8.0, 'Somalia': 3038.0, 'Bahrain': 32.0, 'Myanmar': 85.0, 'Burundi': 147.0, 'Iraq': 10999.0, 'Burkina Faso': 98.0, 'India': 1157.0, 'Algeria': 31.0, 'United States': 1027.0, 'Philippines': 1148.0, 'Greece': 7.0, 'Mali': 657.0, 'Yemen': 1446.0, 'Libya': 316.0, 'Central African Republic': 569.0, 'Egypt': 1499.0, 'Lebanon': 66.0, 'Mexico': 29.0, 'Cameroon': 448.0, 'Ethiopia': 80.0, 'Nigeria': 2300.0, 'Kyrgyzstan': 0.0, 'Syria': 2731.0, 'Serbia': 1.0, 'Sweden': 37.0, 'Thailand': 342.0, 'Iran': 106.0, 'France': 35.0, 'United Kingdom': 343.0, 'West Bank and Gaza Strip': 125.0, 'Ukraine': 104.0, 'Paraguay': 5.0, 'Colombia': 188.0, 'Malaysia': 6.0, 'Russia': 175.0, 'Kosovo': 4.0, 'South Africa': 28.0, 'Chile': 2.0, 'Kenya': 204.0, 'Israel': 18.0, 'Saudi Arabia': 100.0, 'China': 92.0, 'Nepal': 97.0, 'Ecuador': 0.0, 'Niger': 210.0, 'Venezuela': 37.0, 'South Sudan': 836.0, 'Canada': 31.0, 'Bangladesh': 97.0, 'Tajikistan': 1.0, 'Ireland': 0.0, 'Peru': 12.0, 'Angola': 416.0, 'Dominican Republic': 3.0, 'Poland': 0.0, 'Jordan': 5.0, 'Azerbaijan': 7.0, 'Mozambique': 33.0, 'Indonesia': 47.0, 'Germany': 11.0, 'Brazil': 0.0, 'Macedonia': 0.0, 'Tunisia': 10.0, 'Uganda': 9.0, 'Chad': 2.0, 'Finland': 12.0, 'Australia': 25.0, 'Norway': 0.0, 'Vietnam': 0.0, 'Tanzania': 10.0, 'Sierra Leone': 0.0, 'Sri Lanka': 4.0, 'Maldives': 1.0, 'Belgium': 4.0, 'Rwanda': 10.0, 'Honduras': 2.0, 'Czech Republic': 0.0, 'Malta': 1.0, 'Gabon': 2.0, 'Laos': 1.0, 'Austria': 2.0, 'Zambia': 0.0, 'Argentina': 0.0, 'Zimbabwe': 1.0, 'Ivory Coast': 5.0, 'Papua New Guinea': 3.0, 'Spain': 132.0, 'Taiwan': 1.0, 'Jamaica': 0.0, 'Albania': 0.0, 'Liberia': 0.0, 'Georgia': 5.0, 'Malawi': 0.0, 'Netherlands': 0.0, 'Latvia': 0.0}\n"
     ]
    }
   ],
   "source": [
    "country_casualties = {}\n",
    "\n",
    "with open('../../Datasets/year2017.csv') as file_obj:\n",
    "    file_data = csv.DictReader(file_obj, skipinitialspace=True)\n",
    "\n",
    "    for row in file_data:\n",
    "        country = row['Country']\n",
    "        casualties = row['casualities']\n",
    "\n",
    "        if(country != '' and casualties != ''):\n",
    "            if country in country_casualties:\n",
    "                country_casualties[country] += float(casualties)\n",
    "            else:\n",
    "                country_casualties[country] = float(casualties)\n",
    "\n",
    "print(country_casualties)"
   ]
  }
 ],
 "metadata": {
  "kernelspec": {
   "display_name": "Python 3 (ipykernel)",
   "language": "python",
   "name": "python3"
  },
  "language_info": {
   "codemirror_mode": {
    "name": "ipython",
    "version": 3
   },
   "file_extension": ".py",
   "mimetype": "text/x-python",
   "name": "python",
   "nbconvert_exporter": "python",
   "pygments_lexer": "ipython3",
   "version": "3.11.1"
  },
  "vscode": {
   "interpreter": {
    "hash": "a99aa927c047f16092285f229c40e6efb62a1024233dd44b520fa1c403c66f06"
   }
  }
 },
 "nbformat": 4,
 "nbformat_minor": 2
}
