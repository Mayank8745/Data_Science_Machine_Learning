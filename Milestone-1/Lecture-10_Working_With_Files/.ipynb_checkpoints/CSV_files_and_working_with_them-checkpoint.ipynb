{
 "cells": [
  {
   "cell_type": "markdown",
   "metadata": {},
   "source": [
    "# CSV Files\n",
    "\n",
    "CSV stands for Comma Seperated values.\n",
    "The data is seperated by comma.\n",
    "it is present in tabular form such as rows and columns.\n",
    "Columns - field Data or Attribute of data which means that the which data is present in column with its name.\n",
    "Row - Record present in dataset"
   ]
  },
  {
   "cell_type": "code",
   "execution_count": 24,
   "metadata": {},
   "outputs": [
    {
     "ename": "UnicodeDecodeError",
     "evalue": "'charmap' codec can't decode byte 0x81 in position 6235: character maps to <undefined>",
     "output_type": "error",
     "traceback": [
      "\u001b[1;31m---------------------------------------------------------------------------\u001b[0m",
      "\u001b[1;31mUnicodeDecodeError\u001b[0m                        Traceback (most recent call last)",
      "\u001b[1;32m~\\AppData\\Local\\Temp\\ipykernel_13156\\2245863327.py\u001b[0m in \u001b[0;36m<module>\u001b[1;34m\u001b[0m\n\u001b[0;32m      2\u001b[0m \u001b[1;31m# convert whole row in string and not able to seperate comma values\u001b[0m\u001b[1;33m\u001b[0m\u001b[1;33m\u001b[0m\u001b[0m\n\u001b[0;32m      3\u001b[0m \u001b[1;32mwith\u001b[0m \u001b[0mopen\u001b[0m\u001b[1;33m(\u001b[0m\u001b[1;34m'../../Datasets/terrorismData_CN.csv'\u001b[0m\u001b[1;33m,\u001b[0m \u001b[1;34m'r'\u001b[0m\u001b[1;33m)\u001b[0m \u001b[1;32mas\u001b[0m \u001b[0mfile_obj\u001b[0m\u001b[1;33m:\u001b[0m\u001b[1;33m\u001b[0m\u001b[1;33m\u001b[0m\u001b[0m\n\u001b[1;32m----> 4\u001b[1;33m     \u001b[0mfile_data\u001b[0m \u001b[1;33m=\u001b[0m \u001b[0mfile_obj\u001b[0m\u001b[1;33m.\u001b[0m\u001b[0mreadlines\u001b[0m\u001b[1;33m(\u001b[0m\u001b[1;33m)\u001b[0m\u001b[1;33m\u001b[0m\u001b[1;33m\u001b[0m\u001b[0m\n\u001b[0m\u001b[0;32m      5\u001b[0m \u001b[1;33m\u001b[0m\u001b[0m\n\u001b[0;32m      6\u001b[0m \u001b[0mprint\u001b[0m\u001b[1;33m(\u001b[0m\u001b[0mfile_data\u001b[0m\u001b[1;33m[\u001b[0m\u001b[1;33m:\u001b[0m\u001b[1;36m5\u001b[0m\u001b[1;33m]\u001b[0m\u001b[1;33m)\u001b[0m\u001b[1;33m\u001b[0m\u001b[1;33m\u001b[0m\u001b[0m\n",
      "\u001b[1;32m~\\anaconda3\\lib\\encodings\\cp1252.py\u001b[0m in \u001b[0;36mdecode\u001b[1;34m(self, input, final)\u001b[0m\n\u001b[0;32m     21\u001b[0m \u001b[1;32mclass\u001b[0m \u001b[0mIncrementalDecoder\u001b[0m\u001b[1;33m(\u001b[0m\u001b[0mcodecs\u001b[0m\u001b[1;33m.\u001b[0m\u001b[0mIncrementalDecoder\u001b[0m\u001b[1;33m)\u001b[0m\u001b[1;33m:\u001b[0m\u001b[1;33m\u001b[0m\u001b[1;33m\u001b[0m\u001b[0m\n\u001b[0;32m     22\u001b[0m     \u001b[1;32mdef\u001b[0m \u001b[0mdecode\u001b[0m\u001b[1;33m(\u001b[0m\u001b[0mself\u001b[0m\u001b[1;33m,\u001b[0m \u001b[0minput\u001b[0m\u001b[1;33m,\u001b[0m \u001b[0mfinal\u001b[0m\u001b[1;33m=\u001b[0m\u001b[1;32mFalse\u001b[0m\u001b[1;33m)\u001b[0m\u001b[1;33m:\u001b[0m\u001b[1;33m\u001b[0m\u001b[1;33m\u001b[0m\u001b[0m\n\u001b[1;32m---> 23\u001b[1;33m         \u001b[1;32mreturn\u001b[0m \u001b[0mcodecs\u001b[0m\u001b[1;33m.\u001b[0m\u001b[0mcharmap_decode\u001b[0m\u001b[1;33m(\u001b[0m\u001b[0minput\u001b[0m\u001b[1;33m,\u001b[0m\u001b[0mself\u001b[0m\u001b[1;33m.\u001b[0m\u001b[0merrors\u001b[0m\u001b[1;33m,\u001b[0m\u001b[0mdecoding_table\u001b[0m\u001b[1;33m)\u001b[0m\u001b[1;33m[\u001b[0m\u001b[1;36m0\u001b[0m\u001b[1;33m]\u001b[0m\u001b[1;33m\u001b[0m\u001b[1;33m\u001b[0m\u001b[0m\n\u001b[0m\u001b[0;32m     24\u001b[0m \u001b[1;33m\u001b[0m\u001b[0m\n\u001b[0;32m     25\u001b[0m \u001b[1;32mclass\u001b[0m \u001b[0mStreamWriter\u001b[0m\u001b[1;33m(\u001b[0m\u001b[0mCodec\u001b[0m\u001b[1;33m,\u001b[0m\u001b[0mcodecs\u001b[0m\u001b[1;33m.\u001b[0m\u001b[0mStreamWriter\u001b[0m\u001b[1;33m)\u001b[0m\u001b[1;33m:\u001b[0m\u001b[1;33m\u001b[0m\u001b[1;33m\u001b[0m\u001b[0m\n",
      "\u001b[1;31mUnicodeDecodeError\u001b[0m: 'charmap' codec can't decode byte 0x81 in position 6235: character maps to <undefined>"
     ]
    }
   ],
   "source": [
    "# Problem with read and readline fnction to be used with csv files that it \n",
    "# convert whole row in string and not able to seperate comma values\n",
    "with open('../../Datasets/terrorismData_CN.csv', 'r') as file_obj:\n",
    "    file_data = file_obj.readlines()\n",
    "\n",
    "print(file_data[:5])"
   ]
  },
  {
   "cell_type": "markdown",
   "metadata": {},
   "source": [
    "###### To read csv we use csv library contain reader() function in parameter  \n",
    "###### we have to pass file_obj in it  "
   ]
  },
  {
   "cell_type": "code",
   "execution_count": null,
   "metadata": {},
   "outputs": [],
   "source": [
    "import csv"
   ]
  },
  {
   "cell_type": "code",
   "execution_count": null,
   "metadata": {},
   "outputs": [],
   "source": [
    "with open('../../Datasets/terrorism_data.csv', 'r') as file_obj:\n",
    "    file_data = csv.reader(file_obj)\n",
    "        \n",
    "\n",
    "print(type(file_data))\n",
    "\n",
    "# In this output information is seperated by comma.\n",
    "# delimiter which seprated values by sign by default it is comma\n",
    "# but we can specify delimiter by specify it delimiter = sign\n",
    "\n",
    "# Also our seperate value contain initial spce which can be remove by adding parameter\n",
    "# skipinitialspace = True"
   ]
  },
  {
   "cell_type": "markdown",
   "metadata": {},
   "source": [
    "# Question's Statement\n",
    "\n",
    "Given file \"Terrorism_data.csv\"\n",
    "\n",
    "It is an open-source database including information on terrorist attacks around the world from 1970 through 2017. This dataset includes systematic data on domestic as well as international terrorist incidents that have occurred during this time period"
   ]
  },
  {
   "cell_type": "markdown",
   "metadata": {},
   "source": [
    "# Problem - 1\n",
    "\n",
    "Problem Statement :  \n",
    "Open and read the file  \n",
    "Print the first 3 rows of the file, excluding header (in different lines)  \n",
    "Print columns of one row, separated by space  \n",
    "\n",
    "Output Format :  \n",
    "col_1 col_2 col_3 col_4 ....  \n",
    "col_1 col_2 col_3 col_4 ....  \n",
    "col_1 col_2 col_3 col_4 ...."
   ]
  },
  {
   "cell_type": "code",
   "execution_count": null,
   "metadata": {},
   "outputs": [],
   "source": [
    "with open('../../Datasets/year2017.csv') as file_obj:\n",
    "    file_data = csv.reader(file_obj, delimiter=',', skipinitialspace=True);\n",
    "\n",
    "    data = list(file_data)\n",
    "\n",
    "for i in range(1, 4):\n",
    "    print(data[i])\n"
   ]
  },
  {
   "cell_type": "markdown",
   "metadata": {},
   "source": [
    "# Problem - 2\n",
    "\n",
    "Problem Statement :  \n",
    "Open and read the file  \n",
    "Print the name of columns (in different lines)  \n",
    "\n",
    "Output Format :  \n",
    "Column 1  \n",
    "Column 2  \n",
    "Column 3  \n",
    "and so on  \n"
   ]
  },
  {
   "cell_type": "code",
   "execution_count": null,
   "metadata": {},
   "outputs": [],
   "source": [
    "with open('../../Datasets/year2017.csv') as file_obj:\n",
    "    file_data = csv.reader(file_obj)\n",
    "    data = list(file_data)\n",
    "\n",
    "for i in data[0]:\n",
    "    print(i)"
   ]
  },
  {
   "cell_type": "markdown",
   "metadata": {},
   "source": [
    "# Problem - 3\n",
    "\n",
    "Problem Statement :  \n",
    "Open and read the file  \n",
    "Print the country names from first 10 rows (in different lines)  \n",
    "\n",
    "Output Format :  \n",
    "Country 1  \n",
    "Country 2  \n",
    "Country 3  \n",
    "and so on  "
   ]
  },
  {
   "cell_type": "code",
   "execution_count": null,
   "metadata": {},
   "outputs": [],
   "source": [
    "with open('../../Datasets/year2017.csv') as file_obj:\n",
    "    file_data = csv.reader(file_obj)\n",
    "\n",
    "    data = list(file_data)\n",
    "\n",
    "for i in range(1, 11):\n",
    "    print(data[i][3])"
   ]
  },
  {
   "cell_type": "markdown",
   "metadata": {},
   "source": [
    "# Problem - 4\n",
    "\n",
    "Problem Statement :  \n",
    "Open and read the file  \n",
    "Print the total no of peoples killed in 2017.  \n",
    "\n",
    "Output Format :  \n",
    "Total_killed_Person in 2017  "
   ]
  },
  {
   "cell_type": "code",
   "execution_count": 3,
   "metadata": {},
   "outputs": [
    {
     "ename": "NameError",
     "evalue": "name 'csv' is not defined",
     "output_type": "error",
     "traceback": [
      "\u001b[1;31m---------------------------------------------------------------------------\u001b[0m",
      "\u001b[1;31mNameError\u001b[0m                                 Traceback (most recent call last)",
      "\u001b[1;32m~\\AppData\\Local\\Temp\\ipykernel_13156\\3290288983.py\u001b[0m in \u001b[0;36m<module>\u001b[1;34m\u001b[0m\n\u001b[0;32m      1\u001b[0m \u001b[1;32mwith\u001b[0m \u001b[0mopen\u001b[0m\u001b[1;33m(\u001b[0m\u001b[1;34m'../../Datasets/year2017.csv'\u001b[0m\u001b[1;33m)\u001b[0m \u001b[1;32mas\u001b[0m \u001b[0mfile_obj\u001b[0m\u001b[1;33m:\u001b[0m\u001b[1;33m\u001b[0m\u001b[1;33m\u001b[0m\u001b[0m\n\u001b[1;32m----> 2\u001b[1;33m     \u001b[0mfile_data\u001b[0m \u001b[1;33m=\u001b[0m \u001b[0mcsv\u001b[0m\u001b[1;33m.\u001b[0m\u001b[0mreader\u001b[0m\u001b[1;33m(\u001b[0m\u001b[0mfile_obj\u001b[0m\u001b[1;33m)\u001b[0m\u001b[1;33m\u001b[0m\u001b[1;33m\u001b[0m\u001b[0m\n\u001b[0m\u001b[0;32m      3\u001b[0m \u001b[1;33m\u001b[0m\u001b[0m\n\u001b[0;32m      4\u001b[0m     \u001b[0mdata\u001b[0m \u001b[1;33m=\u001b[0m \u001b[0mlist\u001b[0m\u001b[1;33m(\u001b[0m\u001b[0mfile_data\u001b[0m\u001b[1;33m)\u001b[0m\u001b[1;33m\u001b[0m\u001b[1;33m\u001b[0m\u001b[0m\n\u001b[0;32m      5\u001b[0m \u001b[1;33m\u001b[0m\u001b[0m\n",
      "\u001b[1;31mNameError\u001b[0m: name 'csv' is not defined"
     ]
    }
   ],
   "source": [
    "with open('../../Datasets/year2017.csv') as file_obj:\n",
    "    file_data = csv.reader(file_obj)\n",
    "\n",
    "    data = list(file_data)\n",
    "\n",
    "total_killed = 0\n",
    "for i in range(1, len(data)):\n",
    "    if(data[i][9] == ''):\n",
    "        continue\n",
    "    total_killed += float(data[i][9])\n",
    "\n",
    "print(total_killed)"
   ]
  },
  {
   "cell_type": "markdown",
   "metadata": {},
   "source": [
    "# Problem - 5\n",
    "\n",
    "Problem Statement :  \n",
    "Find and print the total number of wounded people.  \n",
    "Print the count as integer value.  \n",
    "Note : There can be missing values in \"Wounded\" column. You should try to print the values of   \n",
    "\"Wounded\" column and observe.  \n",
    "\n",
    "Output Format :  \n",
    "Count  \n"
   ]
  },
  {
   "cell_type": "code",
   "execution_count": null,
   "metadata": {},
   "outputs": [],
   "source": [
    "with open('../../Datasets/year2017.csv') as file_obj:\n",
    "    file_data = csv.reader(file_obj)\n",
    "\n",
    "    data = list(file_data)\n",
    "    wounded = []\n",
    "\n",
    "    for i in range(1, len(data)):\n",
    "        if(data[i][10] == ''):\n",
    "            wounded.append(0)\n",
    "        else:\n",
    "            wounded.append(float(data[i][10]))\n",
    "\n",
    "print(int(sum(wounded)))"
   ]
  },
  {
   "cell_type": "markdown",
   "metadata": {},
   "source": [
    "# Problem - 6\n",
    "\n",
    "Problem Statement :  \n",
    "Find and print the total number of wounded people who are from country \"India\".  \n",
    "Print the count as integer value.  \n",
    "Note : There can be missing values in \"Wounded\" column. You should try to print the values of \"Wounded\" column and observe.  \n",
    "\n",
    "Output Format :  \n",
    "Count  "
   ]
  },
  {
   "cell_type": "code",
   "execution_count": null,
   "metadata": {},
   "outputs": [],
   "source": [
    "with open('../../Datasets/year2017.csv') as file_obj:\n",
    "    file_data = csv.reader(file_obj)\n",
    "\n",
    "    data = list(file_data)\n",
    "    wounded = []\n",
    "\n",
    "    for i in range(1, len(data)):\n",
    "        if(data[i][3] == \"India\" and data[i][10] != ''):\n",
    "            wounded.append(float(data[i][10]))\n",
    "\n",
    "print(int(sum(wounded)))"
   ]
  },
  {
   "cell_type": "code",
   "execution_count": null,
   "metadata": {},
   "outputs": [],
   "source": [
    "# DicReader function is going to be used from here\n",
    "# it convert data in form of dictionary which contain key value pairs\n",
    "# we can gives custom key name by using fieldnames = ('a', 'b', 'c')\n",
    "\n",
    "with open('../../Datasets/year2017.csv') as file_obj:\n",
    "    file_data = csv.DictReader(file_obj, skipinitialspace=True)\n",
    "\n",
    "    data = list(file_data)\n",
    "\n",
    "    for i in range(0, 2):\n",
    "        print(data[i])"
   ]
  },
  {
   "cell_type": "markdown",
   "metadata": {},
   "source": [
    "# Problem - 7\n",
    "\n",
    "Problem Statement :  \n",
    "Find and print total number of casualties with “Explosives” Weapon_type.  \n",
    "Print the count as integer value.  \n",
    "Note : There can be missing values in \"casualties\" column and there are some initial spaces present in every value. You   \n",
    "should try to print the values and observe.  \n",
    "\n",
    "Output Format :  \n",
    "Count  "
   ]
  },
  {
   "cell_type": "code",
   "execution_count": null,
   "metadata": {},
   "outputs": [],
   "source": [
    "total_casualties = 0\n",
    "\n",
    "with open('../../Datasets/year2017.csv') as file_obj:\n",
    "    file_data = csv.DictReader(file_obj, skipinitialspace=True)\n",
    "\n",
    "    for row in file_data:\n",
    "        if(row['Weapon_type'] == \"Explosives\" and row['casualities'] != ''):\n",
    "            total_casualties += float(row['casualities'])\n",
    "\n",
    "print(int(total_casualties))"
   ]
  },
  {
   "cell_type": "markdown",
   "metadata": {},
   "source": [
    "# Problem - 9\n",
    "\n",
    "Count Country wise Killed"
   ]
  },
  {
   "cell_type": "code",
   "execution_count": null,
   "metadata": {},
   "outputs": [],
   "source": [
    "country_killed = {}\n",
    "\n",
    "with open('../../Datasets/year2017.csv') as file_obj:\n",
    "    file_data = csv.DictReader(file_obj, skipinitialspace=True)\n",
    "\n",
    "    for row in file_data:\n",
    "        if(row['Country'] != '' and row['Killed'] != ''):\n",
    "            if(country_killed.get(row['Country']) == None):\n",
    "                country_killed[row['Country']] = 0.0 \n",
    "            place = row['Country']\n",
    "            num = row['Killed']\n",
    "            country_killed[place] += float(num)\n",
    "\n",
    "\n",
    "print(country_killed)"
   ]
  },
  {
   "cell_type": "markdown",
   "metadata": {},
   "source": [
    "# Problem - 10\n",
    "\n",
    "Problem Statement :  \n",
    "Find the total number people killed in each month.  \n",
    "Print the month and count of killed people as integer value.  \n",
    "\n",
    "Output Format :  \n",
    "Month_1 Count_1  \n",
    "Month_2 Count_2  \n",
    "Month_3 Count_3  \n",
    "and so on  "
   ]
  },
  {
   "cell_type": "code",
   "execution_count": null,
   "metadata": {},
   "outputs": [],
   "source": [
    "month_killed = {}\n",
    "\n",
    "with open('../../Datasets/year2017.csv') as file_obj:\n",
    "    file_data = csv.DictReader(file_obj, skipinitialspace=True)\n",
    "\n",
    "    for row in file_data:\n",
    "        if(row['Month'] != '' and row['Killed'] != ''):\n",
    "            month = (row['Month'])\n",
    "            num = row['Killed']\n",
    "            if(month in month_killed):\n",
    "                month_killed[month] += float(num)\n",
    "            else:\n",
    "                month_killed[month] = float(num)\n",
    "\n",
    "print(month_killed)"
   ]
  },
  {
   "cell_type": "markdown",
   "metadata": {},
   "source": [
    "# Problem - 11\n",
    "\n",
    "Problem Statement :  \n",
    "Find total number of casualties in each country.  \n",
    "Print number of casualties as integer value.  \n",
    "Note : For any missing value of casualty column, take 0 as value  \n",
    "\n",
    "Output Format :  \n",
    "country_1 casualties_1  \n",
    "country_2 casualties_2  \n",
    "country_3 casualties_3  \n",
    "and so on  "
   ]
  },
  {
   "cell_type": "code",
   "execution_count": null,
   "metadata": {},
   "outputs": [],
   "source": [
    "country_casualties = {}\n",
    "\n",
    "with open('../../Datasets/year2017.csv') as file_obj:\n",
    "    file_data = csv.DictReader(file_obj, skipinitialspace=True)\n",
    "\n",
    "    for row in file_data:\n",
    "        country = row['Country']\n",
    "        casualties = row['casualities']\n",
    "\n",
    "        if(country != '' and casualties != ''):\n",
    "            if country in country_casualties:\n",
    "                country_casualties[country] += float(casualties)\n",
    "            else:\n",
    "                country_casualties[country] = float(casualties)\n",
    "\n",
    "print(country_casualties)"
   ]
  }
 ],
 "metadata": {
  "kernelspec": {
   "display_name": "Python 3 (ipykernel)",
   "language": "python",
   "name": "python3"
  },
  "language_info": {
   "codemirror_mode": {
    "name": "ipython",
    "version": 3
   },
   "file_extension": ".py",
   "mimetype": "text/x-python",
   "name": "python",
   "nbconvert_exporter": "python",
   "pygments_lexer": "ipython3",
   "version": "3.9.13"
  },
  "vscode": {
   "interpreter": {
    "hash": "a99aa927c047f16092285f229c40e6efb62a1024233dd44b520fa1c403c66f06"
   }
  }
 },
 "nbformat": 4,
 "nbformat_minor": 2
}
